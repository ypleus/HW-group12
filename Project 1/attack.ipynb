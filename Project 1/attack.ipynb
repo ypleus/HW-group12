{
 "cells": [
  {
   "cell_type": "code",
   "execution_count": 1,
   "metadata": {},
   "outputs": [],
   "source": [
    "import time\n",
    "\n",
    "def timer(func):\n",
    "    def wrapper(*args, **kwargs):\n",
    "        total_time = 0\n",
    "        num_attempts = 5 \n",
    "        for i in range(num_attempts):\n",
    "            start_time = time.perf_counter()\n",
    "            result = func(*args, **kwargs)\n",
    "            end_time = time.perf_counter()\n",
    "            execution_time = end_time - start_time\n",
    "            total_time += execution_time\n",
    "        average_time = total_time / num_attempts\n",
    "        print(f\"average time: {average_time:.8f} s\")\n",
    "        return result\n",
    "\n",
    "    return wrapper\n"
   ]
  },
  {
   "cell_type": "code",
   "execution_count": 3,
   "metadata": {},
   "outputs": [],
   "source": [
    "from SM3 import sm3_hash\n",
    "import random\n",
    "\n",
    "\n",
    "def generate_random_input():\n",
    "    return ''.join(random.choice('0123456789abcdef') for _ in range(64)) \n",
    "\n",
    "def truncate_hash(hash_value, bits):\n",
    "    return hash_value[:bits]\n",
    "\n",
    "num_attempts = 2**20\n",
    "\n",
    "@timer\n",
    "def birthday_attack(bits):\n",
    "    # 这里的bits实为char, 指前n个字符相同, 即前4n个bit相同\n",
    "    # 例如birthday_attack(4)指前16个bit相同\n",
    "    global num_attempts\n",
    "    hash_dict = {}\n",
    "\n",
    "    for i in range(num_attempts):\n",
    "        # print(f\"第{i+1}次尝试...\")\n",
    "        input_data = generate_random_input()\n",
    "        hashed = sm3_hash(input_data)\n",
    "\n",
    "        truncated_hash = truncate_hash(hashed, bits)\n",
    "\n",
    "        if truncated_hash in hash_dict:\n",
    "            collision_input = hash_dict[truncated_hash]\n",
    "            print(f\"输入1: {collision_input}\\n输入2: {input_data}\")\n",
    "            print(\"hash1:\", sm3_hash(collision_input))\n",
    "            print(\"hash2:\", sm3_hash(input_data))\n",
    "            print(\"\\n\")\n",
    "            return collision_input, input_data\n",
    "        else:\n",
    "            hash_dict[truncated_hash] = input_data\n",
    "\n",
    "    print(\"未找到碰撞。\")\n",
    "    return None\n",
    "\n"
   ]
  },
  {
   "cell_type": "code",
   "execution_count": 4,
   "metadata": {},
   "outputs": [
    {
     "name": "stdout",
     "output_type": "stream",
     "text": [
      "输入1: 35c46ea1ddf819bc3cac967c304df302f19e76ff7062ac0fe4fd37efd144ebc6\n",
      "输入2: 047669ad2bb8e4c9ee6d23a71df3b1e960f6dda99503126d2dab0a2b2e0b67ee\n",
      "hash1: cf242ef5580da950bd736295b304baffad6fb6190f95cd7d863ee0fefcf05f29\n",
      "hash2: cfd478af2fcef38fcd766077f20e5e972665913566b9a8c9ed4ba85cf2f35d1c\n",
      "\n",
      "\n",
      "输入1: fbb0456fcf006dc2776af9590c686e63928c1c2c4a15d6d56b643583a8126570\n",
      "输入2: 334fc09f6f91e13b0e9abb92b321324666a959f71920c7a16bd1a951401de56c\n",
      "hash1: f0e9f12040faa4d505ab4e963a38b685bb336f168f40bf43050a923b4239ba47\n",
      "hash2: f003d1bf9a880cbc7cad44cbcda554835ceb2d9cfa06f0c43e97d6c576e7b9e1\n",
      "\n",
      "\n",
      "输入1: 522b7d597f3515ec825170db3ffd2f139b203da322224ad59f221083546dc67a\n",
      "输入2: 8a5daf1d9af1891840085b5adf569ab2a2b2d4f969cc0b1a71ad09cb53b74aff\n",
      "hash1: 242788185e74bf7310b9edc4b28e937d7767dc97abb7b33a04d33bd4c3b80a78\n",
      "hash2: 2445f172eb476566ece88fc26b4029619495f70cb5033afd924a058bb3b3d167\n",
      "\n",
      "\n",
      "输入1: 8f9fad3ae91375da14c789f0e9f418d3d2f2852ccbb61ae83ea2eed745dd6a47\n",
      "输入2: a50887be9a10916f2a11dbc65d346457bbe3b32fcacce5cd9a45d7f63373f885\n",
      "hash1: 16650ef78ac5167194b25a1219d161b5fbaae5692ebd99f85d3856b61b43a3f6\n",
      "hash2: 1632459c5cf076fa23492c1ef4d339e517b976922d0dd7908db4fcb4c78ae634\n",
      "\n",
      "\n",
      "输入1: bff54d8ac1eb3939778ea42e30f4a49cb80b725aa9ee7085a7bb9b82250428cb\n",
      "输入2: 26bf97440f3af37e72a02a8bf443f2a227ac05bd165d07b3872e386722a86e21\n",
      "hash1: a8a5c3342b83a3faf13c71ff9c1844b855509c8c29b8807c219274a5bc2a3bd5\n",
      "hash2: a8d0d1b6146ec7788b2037eb654a1d036411dd75e82dbc7b68653c07911cec52\n",
      "\n",
      "\n",
      "average time: 0.01829566 s\n"
     ]
    }
   ],
   "source": [
    "result = birthday_attack(2)"
   ]
  },
  {
   "cell_type": "code",
   "execution_count": 5,
   "metadata": {},
   "outputs": [
    {
     "name": "stdout",
     "output_type": "stream",
     "text": [
      "输入1: 4d6fc35d23c034666524495c0502f42c439bc067f91f1edd6ffb65492447793c\n",
      "输入2: d6a274e03e7537e14a2aea83d4d07e1c441627513edbb3f8a89248c8dc86aaa0\n",
      "hash1: 05cd6b58412020b1286501b84a8d27d2822e5c03a4875468bd00f807050578d6\n",
      "hash2: 05cd4ab5edd35f7f8a2b92886f72d0740fc8c747bbda89e4f78d233072dc2191\n",
      "\n",
      "\n",
      "输入1: 14290830fdc641c010d97632bdba65e213376a261b565092ef06f46b54b6fb8c\n",
      "输入2: 3182941d3cb4e6ba98190f3e29f2bd0d1edfecbeac8a25d9663ea6c1b8e243c0\n",
      "hash1: e37feb793aa233de7153254746da0f0a2aa0809755d9e90fdf1c7bd7a0631849\n",
      "hash2: e37f5623bcd628a70d5b8fbd4ceec7b9de180cac78df4ee57b06e958bf954cf1\n",
      "\n",
      "\n",
      "输入1: 03a8b3cd146a829135c1732df55f5d3c4c9dced1e68e84245599b4cf6cd554f6\n",
      "输入2: cb49b198484034405002bf2c70d6e13b68a0dffdda0f93a06463e8b8c042e77b\n",
      "hash1: ed84166574a5a3cd99d63dcdc96aeb955e45a63f73d805a95855fc6fcd4cef8b\n",
      "hash2: ed8421584c29eb5548f013fcaf3b87c2625bca336c34a0f7327d76a160938cd0\n",
      "\n",
      "\n",
      "输入1: c106b2663d1dd5073452defbc73c850599620fa5f89ac9d995dac9934686ae39\n",
      "输入2: ba2d3d7a990a6bc36b1be2e3ab80eb42175b0cf4be9c5372ad921c8981f7341f\n",
      "hash1: d35d11649a297d8efb412179d7d98a0d5a7625132dbf6c2bc0e288ec9e670249\n",
      "hash2: d35df11eca09992e5b1f11cff1e9476cdde823cf97f65a244b1135da28255a75\n",
      "\n",
      "\n",
      "输入1: b7940e139540b8b82707a70e3608bbdd973917e5f84b253cf1a98ec93e75f5cd\n",
      "输入2: f52198db0daa9d83133d97a97fac93c3958071b827521357de27cb80e40a9af1\n",
      "hash1: 1b179090ecc2781f478877eaba6a29b1dd6d8d0248405d54d8dc30c05a6c957a\n",
      "hash2: 1b17bdefbe895b079801c71e3d98be0fabc72c85e5f4caa333654a1872a6d69b\n",
      "\n",
      "\n",
      "average time: 0.23345784 s\n"
     ]
    }
   ],
   "source": [
    "result = birthday_attack(4)"
   ]
  },
  {
   "cell_type": "code",
   "execution_count": 15,
   "metadata": {},
   "outputs": [
    {
     "name": "stdout",
     "output_type": "stream",
     "text": [
      "输入1: fdb54f9bb941abfb48c0b43d0e33dc6d4a77d2f6132de0d6ef18b13268dc4e4f\n",
      "输入2: ccec22cac0a9b2910d34db4623d7ae505e06ac79238e7c0aac3af0e83783ae42\n",
      "hash1: 53297e846faa1c935a7396a9daf462c59073c2c878b367a7531aedc209000176\n",
      "hash2: 53297e0461ee0905cdf6695cd3e3a383683766ea79cdea944b58addb2aaba4f8\n",
      "\n",
      "\n",
      "输入1: dc04eee91f064a350bd6618db8d023506e46528e4e4f1330aea886bb9c982844\n",
      "输入2: 133085eda9c5e5aaf70ad4a51683e9d97f3608f32afaccfc2a01e102490b2fb4\n",
      "hash1: b4389499d63704d71ca2a5b823e45144187472ffdb1fdb37545ee1d4d25b7cfc\n",
      "hash2: b43894f80c934baf8fcecbe7d55a246d97614d39796768c529c100f6fac73739\n",
      "\n",
      "\n",
      "输入1: 8f70531a655afc376ccbe957850f86af4e69311bf9d847874d072dceef55bc95\n",
      "输入2: cf34bf800f6c376d2ac323a9c1db80bcb1e430cd5d9c2a57630d2df82484c6e4\n",
      "hash1: cc92bdc126893292d31c2076164e5f3fdeb303a16236734a2bdcadfc64b1b11b\n",
      "hash2: cc92bd06ada54914e2832a52bf4885a531a6fce91e78824253caf7e9229c4e34\n",
      "\n",
      "\n",
      "输入1: 30c00e77047dc063df653a6b7d195c89158c1bd0992d67c8f65a1769faba72d9\n",
      "输入2: 422350205f1f995131fefef5173f52ad51769cad5dc5528a549a391bc04dc37a\n",
      "hash1: 534a4d7051a759e735d3980dec45219383c148156cf692df31c098539411d0da\n",
      "hash2: 534a4dcf92eed8425a214b53b3453f54fde388067ea8720a311367acc9876fac\n",
      "\n",
      "\n",
      "输入1: 542d5e3b7478062abdd65d12dbd9159b1c62abd172322d3aa453e21fa2e8c58e\n",
      "输入2: ba985ab4d697a10b1cc5beee50df453e7037218e95e6d47030ace0f84768005c\n",
      "hash1: a2006125dfd2b58a21325f61e22aae711e3d5c417405466346e89a04f1646e9a\n",
      "hash2: a2006108e7ee6a8aef228e7aeefd621d75b6c95e9f191a4d902d753f883ca762\n",
      "\n",
      "\n",
      "average time: 5.06369562 s\n"
     ]
    }
   ],
   "source": [
    "result = birthday_attack(6)"
   ]
  },
  {
   "cell_type": "code",
   "execution_count": 13,
   "metadata": {},
   "outputs": [
    {
     "name": "stdout",
     "output_type": "stream",
     "text": [
      "输入1: a29a0f6074f3cd86ecc29cbd23765febd5310124166e41b76dcc3a534885f983\n",
      "输入2: 68028cd96cbd12124b0bbcfaf8d17d0099bb7ed51756a959d35028803207cea1\n",
      "hash1: 7f96cd7197d0399faea7c10455002cf02520fc3aaabcab577ab9d5021d04615d\n",
      "hash2: 7f96cd71d10bb24568b69242b4987ceda92f7f657a92cb142337a5b5699a8300\n",
      "\n",
      "\n",
      "输入1: c8e8cc829527b93bbce1aa01ddfb9aa239f0ae78106d11e19917f41d448857fe\n",
      "输入2: 23cfdc6e9cecc39d3ae063df4244ed228eae18bf78b5530314f06cd103f2d14e\n",
      "hash1: e5621ba1a1622748cb7df4c3d9037aacbc92abb0f6e9bfed26627ed6089dc336\n",
      "hash2: e5621ba1e8f9b1fff8982ce5237bfdf5ed28419b3acd33cdf2d667e6f18b8fa8\n",
      "\n",
      "\n",
      "输入1: 90515e18f1685771cca4def56e3f3d21c0e2abeab5e8bce5542b03cd12cbea86\n",
      "输入2: bf40dc8bade6477e6e4a854cc55c19b74280eb6fd822d2cd16412fa708cf4d57\n",
      "hash1: 95b610e01457331ba1f561ba1ac10a4dec8f729838c1c79d06df2ec336466325\n",
      "hash2: 95b610e08e4ca56e6bcd72a848dae7ed897702136c148cb6a2aee1ee87315c5a\n",
      "\n",
      "\n",
      "输入1: 0101c12d0e7e9bba6f5ebf2b0e56265aa94fc80bb3357fa97376745c4069485f\n",
      "输入2: 1f942f6f60c6babbf0ec855f0d03fc76dab60fa5ec715eee040119ea38d426c7\n",
      "hash1: 7ef1d6374d68a124c44e8de58c96474fa4f7c10ab2608650ad82044f1058de7c\n",
      "hash2: 7ef1d637bceedffec893cca9b24ffddd894fc405fd09e5bdeb18a9cab64a72b3\n",
      "\n",
      "\n",
      "输入1: 8e3e480721c89d4eceeec6d573f6054e70fc3509990cdb15deee55d06af78bf7\n",
      "输入2: f26e078964d16456652423f271bafad11b8d4373fb2638f3fbf7cb400b8f0e4d\n",
      "hash1: eef333dc562f2dc73bcf2f3302ebf051df80cc7aa35975cb7a8309888c43ebeb\n",
      "hash2: eef333dc59957862689e620761afc2b3454f3f23ec3f159a953d8c6bc324abe3\n",
      "\n",
      "\n",
      "average time: 74.19311604 s\n",
      "哈希碰撞成功！\n"
     ]
    }
   ],
   "source": [
    "result = birthday_attack(8)"
   ]
  },
  {
   "cell_type": "code",
   "execution_count": 6,
   "metadata": {},
   "outputs": [
    {
     "name": "stdout",
     "output_type": "stream",
     "text": [
      "未找到碰撞。\n",
      "输入1: 51d877ba515f4b6a018eb4c0891a0acd2f8b24769bf8b9978db8b2df9e785e78\n",
      "输入2: e5cbc2e8a3cd86fd5d39ae51e7a0e77f93db4b37885c99922d76cb25b1708aff\n",
      "hash1: 7a22f91c79e87d7e1d991e30a282e450a101b0a85b75daa8ade4b75ace8d7fdf\n",
      "hash2: 7a22f91c79ef36e3801a9c2667dd62e53fea63c2edc785d47af4bfd9964086de\n",
      "\n",
      "\n",
      "未找到碰撞。\n",
      "未找到碰撞。\n",
      "输入1: 75d96cea6ee9f6f50596d97a5dbe6e3391777c11eff1bf3352ce6cddab5dc2c2\n",
      "输入2: 507ce43b7e35dbadea076122fae1dc18b11ddd8bba8d58027879c692ac0736e2\n",
      "hash1: 50ac5e6e9a3ad9477acba54ea17cf0b399406f52080818d27680c0a92257b5a3\n",
      "hash2: 50ac5e6e9aaf7c593dabd4bacc1bd426fca455e3f4fb24214c0ab5a000bd3c68\n",
      "\n",
      "\n",
      "average time: 619.91614372 s\n"
     ]
    }
   ],
   "source": [
    "result = birthday_attack(10)"
   ]
  }
 ],
 "metadata": {
  "kernelspec": {
   "display_name": "base",
   "language": "python",
   "name": "python3"
  },
  "language_info": {
   "codemirror_mode": {
    "name": "ipython",
    "version": 3
   },
   "file_extension": ".py",
   "mimetype": "text/x-python",
   "name": "python",
   "nbconvert_exporter": "python",
   "pygments_lexer": "ipython3",
   "version": "3.10.10"
  },
  "orig_nbformat": 4
 },
 "nbformat": 4,
 "nbformat_minor": 2
}
