{
 "cells": [
  {
   "cell_type": "code",
   "execution_count": null,
   "metadata": {},
   "outputs": [],
   "source": [
    "import time\n",
    "\n",
    "\n",
    "def timer(func):\n",
    "\n",
    "    def wrapper(*args, **kwargs):\n",
    "        total_time = 0\n",
    "        num_attempts = 5\n",
    "        for i in range(num_attempts):\n",
    "            start_time = time.perf_counter()\n",
    "            result = func(*args, **kwargs)\n",
    "            end_time = time.perf_counter()\n",
    "            execution_time = end_time - start_time\n",
    "            total_time += execution_time\n",
    "        average_time = total_time / num_attempts\n",
    "        print(f\"average time: {average_time:.8f} s\")\n",
    "        return result\n",
    "\n",
    "    return wrapper\n"
   ]
  },
  {
   "cell_type": "code",
   "execution_count": null,
   "metadata": {},
   "outputs": [],
   "source": [
    "import random\n",
    "from gmssl import sm3, hex, bytes\n",
    "\n",
    "\n",
    "@timer\n",
    "def Rho(n, times=64):\n",
    "    for _ in range(times):\n",
    "        x = random.random()  # 生成一个随机浮点数\n",
    "        h1 = sm3.sm3_hash(bytes.to_bytes(x))  # 计算SM3哈希值\n",
    "        h2 = sm3.sm3_hash(h1)\n",
    "        for _ in range(10000):\n",
    "            h3 = sm3.sm3_hash(h1)\n",
    "            h4 = sm3.sm3_hash(sm3.sm3_hash(h2))\n",
    "            if h3[:n] == h4[:n]:  # 比较前n位是否相等\n",
    "                break\n",
    "            h1 = h3\n",
    "            h2 = h4\n",
    "    print(h1, h2, hex.encode(h3), hex.encode(h4))\n",
    "    return (h1, h2, hex.encode(h3), hex.encode(h4))\n"
   ]
  },
  {
   "cell_type": "code",
   "execution_count": null,
   "metadata": {},
   "outputs": [],
   "source": []
  }
 ],
 "metadata": {
  "kernelspec": {
   "display_name": "base",
   "language": "python",
   "name": "python3"
  },
  "language_info": {
   "name": "python",
   "version": "3.10.10"
  },
  "orig_nbformat": 4
 },
 "nbformat": 4,
 "nbformat_minor": 2
}
