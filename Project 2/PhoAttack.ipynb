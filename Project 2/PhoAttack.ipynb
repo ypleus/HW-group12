{
 "cells": [
  {
   "cell_type": "code",
   "execution_count": 3,
   "metadata": {},
   "outputs": [],
   "source": [
    "import time\n",
    "\n",
    "\n",
    "def timer(func):\n",
    "\n",
    "    def wrapper(*args, **kwargs):\n",
    "        total_time = 0\n",
    "        num_attempts = 5\n",
    "        for i in range(num_attempts):\n",
    "            start_time = time.perf_counter()\n",
    "            result = func(*args, **kwargs)\n",
    "            end_time = time.perf_counter()\n",
    "            execution_time = end_time - start_time\n",
    "            total_time += execution_time\n",
    "        average_time = total_time / num_attempts\n",
    "        print(f\"average time: {average_time:.8f} s\")\n",
    "        return result\n",
    "\n",
    "    return wrapper\n"
   ]
  },
  {
   "cell_type": "code",
   "execution_count": 8,
   "metadata": {},
   "outputs": [],
   "source": [
    "import random\n",
    "from SM3 import sm3_hash as sm3\n",
    "\n",
    "\n",
    "def generate_random_input():\n",
    "    return ''.join(random.choice('0123456789abcdef') for _ in range(64)) \n",
    "\n",
    "def truncate_hash(hash_value, bits):\n",
    "    return hash_value[:bits]\n",
    "\n",
    "@timer\n",
    "def Rho(n, times=64):\n",
    "    for _ in range(times):\n",
    "        x = generate_random_input()\n",
    "        h1 = sm3(x)  # 计算SM3哈希值\n",
    "        h2 = sm3(h1)\n",
    "        for _ in range(10000):\n",
    "            h3 = sm3(h1)\n",
    "            h4 = sm3(sm3(h2))\n",
    "            if truncate_hash(h3, n) == truncate_hash(h4, n):  # 比较前n位是否相等\n",
    "                break\n",
    "            h1 = h3\n",
    "            h2 = h4\n",
    "    print(h1, h2, hex.encode(h3), hex.encode(h4))\n",
    "    return (h1, h2, hex.encode(h3), hex.encode(h4))\n"
   ]
  },
  {
   "cell_type": "code",
   "execution_count": null,
   "metadata": {},
   "outputs": [],
   "source": [
    "Rho(2)"
   ]
  },
  {
   "cell_type": "code",
   "execution_count": 9,
   "metadata": {},
   "outputs": [
    {
     "ename": "KeyboardInterrupt",
     "evalue": "",
     "output_type": "error",
     "traceback": [
      "\u001b[1;31m---------------------------------------------------------------------------\u001b[0m",
      "\u001b[1;31mKeyboardInterrupt\u001b[0m                         Traceback (most recent call last)",
      "Cell \u001b[1;32mIn[9], line 1\u001b[0m\n\u001b[1;32m----> 1\u001b[0m Rho(\u001b[39m4\u001b[39;49m)\n",
      "Cell \u001b[1;32mIn[3], line 11\u001b[0m, in \u001b[0;36mtimer.<locals>.wrapper\u001b[1;34m(*args, **kwargs)\u001b[0m\n\u001b[0;32m      9\u001b[0m \u001b[39mfor\u001b[39;00m i \u001b[39min\u001b[39;00m \u001b[39mrange\u001b[39m(num_attempts):\n\u001b[0;32m     10\u001b[0m     start_time \u001b[39m=\u001b[39m time\u001b[39m.\u001b[39mperf_counter()\n\u001b[1;32m---> 11\u001b[0m     result \u001b[39m=\u001b[39m func(\u001b[39m*\u001b[39margs, \u001b[39m*\u001b[39m\u001b[39m*\u001b[39mkwargs)\n\u001b[0;32m     12\u001b[0m     end_time \u001b[39m=\u001b[39m time\u001b[39m.\u001b[39mperf_counter()\n\u001b[0;32m     13\u001b[0m     execution_time \u001b[39m=\u001b[39m end_time \u001b[39m-\u001b[39m start_time\n",
      "Cell \u001b[1;32mIn[8], line 19\u001b[0m, in \u001b[0;36mRho\u001b[1;34m(n, times)\u001b[0m\n\u001b[0;32m     17\u001b[0m \u001b[39mfor\u001b[39;00m _ \u001b[39min\u001b[39;00m \u001b[39mrange\u001b[39m(\u001b[39m10000\u001b[39m):\n\u001b[0;32m     18\u001b[0m     h3 \u001b[39m=\u001b[39m sm3(h1)\n\u001b[1;32m---> 19\u001b[0m     h4 \u001b[39m=\u001b[39m sm3(sm3(h2))\n\u001b[0;32m     20\u001b[0m     \u001b[39mif\u001b[39;00m h3[:n] \u001b[39m==\u001b[39m h4[:n]:  \u001b[39m# 比较前n位是否相等\u001b[39;00m\n\u001b[0;32m     21\u001b[0m         \u001b[39mbreak\u001b[39;00m\n",
      "File \u001b[1;32me:\\Projects\\HW group 12\\Project 2\\SM3.py:233\u001b[0m, in \u001b[0;36msm3_hash\u001b[1;34m(msg)\u001b[0m\n\u001b[0;32m    230\u001b[0m s_fill \u001b[39m=\u001b[39m msg_fill(s_bin)\n\u001b[0;32m    232\u001b[0m \u001b[39m# 对填充后的消息进行迭代压缩\u001b[39;00m\n\u001b[1;32m--> 233\u001b[0m s_sm3 \u001b[39m=\u001b[39m iteration_func(s_fill)\n\u001b[0;32m    235\u001b[0m \u001b[39mreturn\u001b[39;00m s_sm3\n",
      "File \u001b[1;32me:\\Projects\\HW group 12\\Project 2\\SM3.py:93\u001b[0m, in \u001b[0;36miteration_func\u001b[1;34m(msg)\u001b[0m\n\u001b[0;32m     91\u001b[0m v \u001b[39m=\u001b[39m [int2bin(iv, \u001b[39m256\u001b[39m)]\n\u001b[0;32m     92\u001b[0m \u001b[39mfor\u001b[39;00m i \u001b[39min\u001b[39;00m \u001b[39mrange\u001b[39m(n):\n\u001b[1;32m---> 93\u001b[0m     v\u001b[39m.\u001b[39mappend(cf(v[i], b[i]))\n\u001b[0;32m     95\u001b[0m \u001b[39mreturn\u001b[39;00m bin2hex(v[n], \u001b[39m64\u001b[39m)\n",
      "File \u001b[1;32me:\\Projects\\HW group 12\\Project 2\\SM3.py:142\u001b[0m, in \u001b[0;36mcf\u001b[1;34m(vi, bi)\u001b[0m\n\u001b[0;32m    139\u001b[0m \u001b[39mfor\u001b[39;00m j \u001b[39min\u001b[39;00m \u001b[39mrange\u001b[39m(\u001b[39m64\u001b[39m):\n\u001b[0;32m    140\u001b[0m     ss1 \u001b[39m=\u001b[39m rotate_left(\n\u001b[0;32m    141\u001b[0m         (rotate_left(a, \u001b[39m12\u001b[39m) \u001b[39m+\u001b[39m e \u001b[39m+\u001b[39m rotate_left(t_j(j), j)) \u001b[39m%\u001b[39m MAX, \u001b[39m7\u001b[39m)\n\u001b[1;32m--> 142\u001b[0m     ss2 \u001b[39m=\u001b[39m ss1 \u001b[39m^\u001b[39m rotate_left(a, \u001b[39m12\u001b[39;49m)\n\u001b[0;32m    143\u001b[0m     tt1 \u001b[39m=\u001b[39m (ff(a, b, c, j) \u001b[39m+\u001b[39m d \u001b[39m+\u001b[39m ss2 \u001b[39m+\u001b[39m w1[j]) \u001b[39m%\u001b[39m MAX\n\u001b[0;32m    144\u001b[0m     tt2 \u001b[39m=\u001b[39m (gg(e, f, g, j) \u001b[39m+\u001b[39m h \u001b[39m+\u001b[39m ss1 \u001b[39m+\u001b[39m w[j]) \u001b[39m%\u001b[39m MAX\n",
      "File \u001b[1;32me:\\Projects\\HW group 12\\Project 2\\SM3.py:161\u001b[0m, in \u001b[0;36mrotate_left\u001b[1;34m(a, k)\u001b[0m\n\u001b[0;32m    156\u001b[0m     vi_1 \u001b[39m=\u001b[39m \u001b[39mint\u001b[39m(vi_1, \u001b[39m2\u001b[39m) \u001b[39m^\u001b[39m \u001b[39mint\u001b[39m(vi, \u001b[39m2\u001b[39m)\n\u001b[0;32m    158\u001b[0m     \u001b[39mreturn\u001b[39;00m int2bin(vi_1, \u001b[39m256\u001b[39m)\n\u001b[1;32m--> 161\u001b[0m \u001b[39mdef\u001b[39;00m \u001b[39mrotate_left\u001b[39m(a, k):\n\u001b[0;32m    162\u001b[0m     \u001b[39m\"\"\"\u001b[39;00m\n\u001b[0;32m    163\u001b[0m \u001b[39m    （字）循环左移k比特运算\u001b[39;00m\n\u001b[0;32m    164\u001b[0m \u001b[39m    :param a: 待按位左移的比特串\u001b[39;00m\n\u001b[0;32m    165\u001b[0m \u001b[39m    :param k: 左移位数\u001b[39;00m\n\u001b[0;32m    166\u001b[0m \u001b[39m    :return:\u001b[39;00m\n\u001b[0;32m    167\u001b[0m \u001b[39m    \"\"\"\u001b[39;00m\n\u001b[0;32m    168\u001b[0m     k \u001b[39m=\u001b[39m k \u001b[39m%\u001b[39m \u001b[39m32\u001b[39m\n",
      "\u001b[1;31mKeyboardInterrupt\u001b[0m: "
     ]
    }
   ],
   "source": [
    "Rho(4)"
   ]
  },
  {
   "cell_type": "code",
   "execution_count": null,
   "metadata": {},
   "outputs": [],
   "source": [
    "Rho(6)"
   ]
  },
  {
   "cell_type": "code",
   "execution_count": null,
   "metadata": {},
   "outputs": [],
   "source": [
    "Rho(8)"
   ]
  }
 ],
 "metadata": {
  "kernelspec": {
   "display_name": "base",
   "language": "python",
   "name": "python3"
  },
  "language_info": {
   "codemirror_mode": {
    "name": "ipython",
    "version": 3
   },
   "file_extension": ".py",
   "mimetype": "text/x-python",
   "name": "python",
   "nbconvert_exporter": "python",
   "pygments_lexer": "ipython3",
   "version": "3.10.10"
  },
  "orig_nbformat": 4
 },
 "nbformat": 4,
 "nbformat_minor": 2
}
